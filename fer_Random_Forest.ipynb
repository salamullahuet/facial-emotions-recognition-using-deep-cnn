{
  "nbformat": 4,
  "nbformat_minor": 0,
  "metadata": {
    "colab": {
      "name": "fer Random-Forest.ipynb",
      "provenance": [],
      "collapsed_sections": []
    },
    "kernelspec": {
      "name": "python3",
      "display_name": "Python 3"
    },
    "accelerator": "GPU"
  },
  "cells": [
    {
      "cell_type": "code",
      "metadata": {
        "id": "7EckBO8llGHA",
        "colab_type": "code",
        "colab": {}
      },
      "source": [
        "#Importing libraries\n",
        "import time\n",
        "import matplotlib\n",
        "import matplotlib.pyplot as plt\n",
        "import numpy as np\n",
        "import math\n",
        "import csv\n",
        "import h5py\n",
        "from tensorflow.keras.preprocessing.image import ImageDataGenerator\n",
        "from sklearn.datasets import fetch_openml\n",
        "from sklearn.linear_model import LogisticRegression\n",
        "from sklearn.model_selection import train_test_split\n",
        "from sklearn.preprocessing import StandardScaler\n",
        "from sklearn.utils import check_random_state\n",
        "import keras"
      ],
      "execution_count": 77,
      "outputs": []
    },
    {
      "cell_type": "code",
      "metadata": {
        "id": "_uyiu2DOxe_h",
        "colab_type": "code",
        "colab": {
          "base_uri": "https://localhost:8080/",
          "height": 51
        },
        "outputId": "8a349587-30be-4c9e-f3e7-44de751cb22f"
      },
      "source": [
        "#the csv can be found here\n",
        "#  https://www.kaggle.com/deadskull7/fer2013\n",
        "##\n",
        "\n",
        "#reading the data\n",
        "with open(\"fer2013.csv\") as f:\n",
        "    content = f.readlines()\n",
        "\n",
        "lines = np.array(content)\n",
        "num_of_instances = lines.size\n",
        "print(\"number of instances: \",num_of_instances)\n",
        "print(\"instance length: \",len(lines[1].split(\",\")[1].split(\" \")))"
      ],
      "execution_count": 78,
      "outputs": [
        {
          "output_type": "stream",
          "text": [
            "number of instances:  35888\n",
            "instance length:  2304\n"
          ],
          "name": "stdout"
        }
      ]
    },
    {
      "cell_type": "code",
      "metadata": {
        "id": "kQHq_RuXwAUK",
        "colab_type": "code",
        "colab": {}
      },
      "source": [
        "#initialize trainset and test set\n",
        "x_train, y_train, x_test, y_test = [], [], [], []"
      ],
      "execution_count": 79,
      "outputs": []
    },
    {
      "cell_type": "code",
      "metadata": {
        "id": "1WSgzW-AwIi-",
        "colab_type": "code",
        "colab": {}
      },
      "source": [
        "#transfer train and test set data\n",
        "for i in range(1,num_of_instances):\n",
        "    try:\n",
        "        emotion, img, usage = lines[i].split(\",\")  \n",
        "        val = img.split(\" \")     \n",
        "        pixels = np.array(val, 'float32')\n",
        "    \n",
        "        if 'Training' in usage:\n",
        "            y_train.append(emotion)\n",
        "            x_train.append(pixels)\n",
        "        elif 'PublicTest' in usage:\n",
        "            y_test.append(emotion)\n",
        "            x_test.append(pixels)\n",
        "    except:\n",
        "        print(\"\",end=\"\")"
      ],
      "execution_count": 80,
      "outputs": []
    },
    {
      "cell_type": "code",
      "metadata": {
        "id": "Pg4A05UbwLYD",
        "colab_type": "code",
        "colab": {}
      },
      "source": [
        "#data transformation for train and test sets\n",
        "x_train = np.array(x_train, 'float32')\n",
        "y_train = np.array(y_train)\n",
        "x_test = np.array(x_test, 'float32')\n",
        "y_test = np.array(y_test)\n",
        "\n",
        "x_train /= 255 #normalize inputs between [0, 1]\n",
        "x_test /= 255"
      ],
      "execution_count": 81,
      "outputs": []
    },
    {
      "cell_type": "code",
      "metadata": {
        "id": "TcJgoyRDwa6p",
        "colab_type": "code",
        "colab": {
          "base_uri": "https://localhost:8080/",
          "height": 248
        },
        "outputId": "369720dd-f7a2-4ce0-ad88-0061d1ce81a5"
      },
      "source": [
        "some_digit = x_test[4]\n",
        "some_digit_image = some_digit.reshape(48,48)\n",
        "plt.imshow(some_digit_image, \n",
        "          interpolation=\"nearest\", cmap='gray')\n",
        "plt.axis(\"off\")\n",
        "plt.show()"
      ],
      "execution_count": 82,
      "outputs": [
        {
          "output_type": "display_data",
          "data": {
            "image/png": "[encoded data removed]",
            "text/plain": [
              "<Figure size 432x288 with 1 Axes>"
            ]
          },
          "metadata": {
            "tags": [],
            "needs_background": "light"
          }
        }
      ]
    },
    {
      "cell_type": "code",
      "metadata": {
        "id": "TFdcW3MOy5RJ",
        "colab_type": "code",
        "colab": {}
      },
      "source": [
        "#initialize trainset and test set\n",
        "x_train, y_train, x_test, y_test = [], [], [], []"
      ],
      "execution_count": 83,
      "outputs": []
    },
    {
      "cell_type": "code",
      "metadata": {
        "id": "0SLQSyPwzD-2",
        "colab_type": "code",
        "colab": {}
      },
      "source": [
        "def emotion_analysis(emotions):\n",
        "    # emotion dic with integer keys \n",
        "    my_dict = dict({0: 'Angry', 1: 'Disgust', 2: 'Fear', 3: 'Happy', 4: 'Sad', 5: 'Surprise', 6: 'Neutral'})\n",
        "\n",
        "    return my_dict.get(int(emotions))"
      ],
      "execution_count": 85,
      "outputs": []
    },
    {
      "cell_type": "code",
      "metadata": {
        "id": "7Gx15wmOza_W",
        "colab_type": "code",
        "colab": {
          "base_uri": "https://localhost:8080/",
          "height": 35
        },
        "outputId": "a9b0b79d-d42a-4518-faad-6a5b6c83251e"
      },
      "source": [
        "emotion_analysis(y_test[4])"
      ],
      "execution_count": 86,
      "outputs": [
        {
          "output_type": "execute_result",
          "data": {
            "application/vnd.google.colaboratory.intrinsic+json": {
              "type": "string"
            },
            "text/plain": [
              "'Happy'"
            ]
          },
          "metadata": {
            "tags": []
          },
          "execution_count": 86
        }
      ]
    },
    {
      "cell_type": "code",
      "metadata": {
        "id": "L8xmyuA1zfJB",
        "colab_type": "code",
        "colab": {}
      },
      "source": [
        "from sklearn.ensemble import BaggingClassifier, RandomForestClassifier, BaggingRegressor, RandomForestRegressor, GradientBoostingRegressor\n",
        "from sklearn.model_selection import cross_val_predict\n",
        "from sklearn.metrics import plot_confusion_matrix, classification_report, confusion_matrix, accuracy_score\n",
        "from sklearn import metrics\n",
        "import sklearn"
      ],
      "execution_count": 87,
      "outputs": []
    },
    {
      "cell_type": "code",
      "metadata": {
        "id": "jQJon2dEzlm6",
        "colab_type": "code",
        "colab": {
          "base_uri": "https://localhost:8080/",
          "height": 153
        },
        "outputId": "43d635df-a9d9-4373-efd1-73f571c811de"
      },
      "source": [
        "#create model and fit \n",
        "\n",
        "rfc = RandomForestClassifier(n_jobs=-1, n_estimators=100)\n",
        "rfc.fit(x_train, y_train)"
      ],
      "execution_count": 88,
      "outputs": [
        {
          "output_type": "execute_result",
          "data": {
            "text/plain": [
              "RandomForestClassifier(bootstrap=True, ccp_alpha=0.0, class_weight=None,\n",
              "                       criterion='gini', max_depth=None, max_features='auto',\n",
              "                       max_leaf_nodes=None, max_samples=None,\n",
              "                       min_impurity_decrease=0.0, min_impurity_split=None,\n",
              "                       min_samples_leaf=1, min_samples_split=2,\n",
              "                       min_weight_fraction_leaf=0.0, n_estimators=100,\n",
              "                       n_jobs=-1, oob_score=False, random_state=None, verbose=0,\n",
              "                       warm_start=False)"
            ]
          },
          "metadata": {
            "tags": []
          },
          "execution_count": 88
        }
      ]
    },
    {
      "cell_type": "code",
      "metadata": {
        "id": "CPxov7QizryZ",
        "colab_type": "code",
        "colab": {
          "base_uri": "https://localhost:8080/",
          "height": 34
        },
        "outputId": "15e78af4-05b8-4322-a3af-9c03c776e3df"
      },
      "source": [
        "#accuracy of the model\n",
        "rfc.score(x_test, y_test)"
      ],
      "execution_count": 89,
      "outputs": [
        {
          "output_type": "execute_result",
          "data": {
            "text/plain": [
              "0.46586792978545555"
            ]
          },
          "metadata": {
            "tags": []
          },
          "execution_count": 89
        }
      ]
    },
    {
      "cell_type": "code",
      "metadata": {
        "id": "s7R8JO360BQh",
        "colab_type": "code",
        "colab": {
          "base_uri": "https://localhost:8080/",
          "height": 34
        },
        "outputId": "5ef81a2c-0c8c-4ab4-a88f-327551182070"
      },
      "source": [
        "#predicting validation set from the csv\n",
        "y_pred = rfc.predict(x_test)\n",
        "y_pred"
      ],
      "execution_count": 90,
      "outputs": [
        {
          "output_type": "execute_result",
          "data": {
            "text/plain": [
              "array(['0', '3', '4', ..., '6', '2', '6'], dtype='<U1')"
            ]
          },
          "metadata": {
            "tags": []
          },
          "execution_count": 90
        }
      ]
    },
    {
      "cell_type": "code",
      "metadata": {
        "id": "1pY4X-ru0GhE",
        "colab_type": "code",
        "colab": {
          "base_uri": "https://localhost:8080/",
          "height": 34
        },
        "outputId": "b617f00e-6736-4557-e89c-c675e762e478"
      },
      "source": [
        "rfc.predict_proba(x_test)[0:10, 3]"
      ],
      "execution_count": 91,
      "outputs": [
        {
          "output_type": "execute_result",
          "data": {
            "text/plain": [
              "array([0.17, 0.29, 0.15, 0.26, 0.46, 0.37, 0.14, 0.22, 0.19, 0.2 ])"
            ]
          },
          "metadata": {
            "tags": []
          },
          "execution_count": 91
        }
      ]
    },
    {
      "cell_type": "code",
      "metadata": {
        "id": "OA48aV5P0Lox",
        "colab_type": "code",
        "colab": {}
      },
      "source": [
        "from keras.preprocessing import image\n",
        "from IPython.display import display \n",
        "from PIL import Image"
      ],
      "execution_count": 92,
      "outputs": []
    },
    {
      "cell_type": "code",
      "metadata": {
        "id": "ozGdxTtP0SVD",
        "colab_type": "code",
        "colab": {
          "base_uri": "https://localhost:8080/",
          "height": 338
        },
        "outputId": "12a31e29-b9c4-4b64-e83f-8845c1048861"
      },
      "source": [
        "#loading an image of suzy to test\n",
        "img = image.load_img(\"9.jpg\", grayscale=True, target_size=(48, 48))\n",
        "\n",
        "x = image.img_to_array(img)\n",
        "x = np.expand_dims(x, axis = 0)\n",
        "x /= 255\n",
        " \n",
        "#predicting uploaded image    \n",
        "custom = rfc.predict(x.reshape(1, -1))\n",
        "\n",
        "print(emotion_analysis(custom[0]))\n",
        " \n",
        "x = np.array(x, 'float32')\n",
        "x = x.reshape([48, 48]);\n",
        " \n",
        "plt.gray()\n",
        "plt.imshow(x)\n",
        "plt.show()"
      ],
      "execution_count": 95,
      "outputs": [
        {
          "output_type": "stream",
          "text": [
            "/usr/local/lib/python3.6/dist-packages/keras_preprocessing/image/utils.py:107: UserWarning: grayscale is deprecated. Please use color_mode = \"grayscale\"\n",
            "  warnings.warn('grayscale is deprecated. Please use '\n"
          ],
          "name": "stderr"
        },
        {
          "output_type": "stream",
          "text": [
            "Angry\n"
          ],
          "name": "stdout"
        },
        {
          "output_type": "display_data",
          "data": {
            "image/png": "[encoded data removed]",
            "text/plain": [
              "<Figure size 432x288 with 1 Axes>"
            ]
          },
          "metadata": {
            "tags": [],
            "needs_background": "light"
          }
        }
      ]
    },
    {
      "cell_type": "code",
      "metadata": {
        "id": "a9iJif9J06iT",
        "colab_type": "code",
        "colab": {
          "base_uri": "https://localhost:8080/",
          "height": 391
        },
        "outputId": "01fca05b-ed6f-4c8f-9150-f11dd1fab822"
      },
      "source": [
        "# Evaluate model with confusion matrix, classification report and accuracy score\n",
        "print(confusion_matrix(y_test,y_pred))\n",
        "print(classification_report(y_test,y_pred))\n",
        "print(accuracy_score(y_test, y_pred))"
      ],
      "execution_count": 96,
      "outputs": [
        {
          "output_type": "stream",
          "text": [
            "[[ 92   0  41 171  69  17  77]\n",
            " [  3  15   3  23   5   1   6]\n",
            " [ 20   0 136 146  79  39  76]\n",
            " [ 14   0  22 704  65  25  65]\n",
            " [ 30   0  35 232 238   9 109]\n",
            " [ 16   0  28  68  21 249  33]\n",
            " [ 31   0  29 208  85  16 238]]\n",
            "              precision    recall  f1-score   support\n",
            "\n",
            "           0       0.45      0.20      0.27       467\n",
            "           1       1.00      0.27      0.42        56\n",
            "           2       0.46      0.27      0.34       496\n",
            "           3       0.45      0.79      0.58       895\n",
            "           4       0.42      0.36      0.39       653\n",
            "           5       0.70      0.60      0.65       415\n",
            "           6       0.39      0.39      0.39       607\n",
            "\n",
            "    accuracy                           0.47      3589\n",
            "   macro avg       0.55      0.41      0.44      3589\n",
            "weighted avg       0.48      0.47      0.45      3589\n",
            "\n",
            "0.46586792978545555\n"
          ],
          "name": "stdout"
        }
      ]
    },
    {
      "cell_type": "code",
      "metadata": {
        "id": "rUsnfxlo1pcA",
        "colab_type": "code",
        "colab": {
          "base_uri": "https://localhost:8080/",
          "height": 689
        },
        "outputId": "31deb4ec-ff1a-4a56-9133-a545a8b062c6"
      },
      "source": [
        "f,ax=plt.subplots(1,1,figsize=(12,12))\n",
        "# print(\"Classification report for classifier %s:\\n%s\\n\"\n",
        "#       % (rfc, metrics.classification_report(y_test, y_pred)))\n",
        "disp = metrics.plot_confusion_matrix(rfc, x_test, y_test,normalize='true',ax=ax)"
      ],
      "execution_count": 97,
      "outputs": [
        {
          "output_type": "display_data",
          "data": {
            "image/png": "[encoded data removed]",
            "text/plain": [
              "<Figure size 864x864 with 2 Axes>"
            ]
          },
          "metadata": {
            "tags": [],
            "needs_background": "light"
          }
        }
      ]
    },
    {
      "cell_type": "code",
      "metadata": {
        "id": "cZ8c8HWx1w4V",
        "colab_type": "code",
        "colab": {}
      },
      "source": [
        "y_probas_0 = rfc.predict_proba(x_test)[:,0]\n",
        "y_probas_1 = rfc.predict_proba(x_test)[:,1]\n",
        "y_probas_2 = rfc.predict_proba(x_test)[:,2]\n",
        "y_probas_3 = rfc.predict_proba(x_test)[:,3]\n",
        "y_probas_4 = rfc.predict_proba(x_test)[:,4]\n",
        "y_probas_5 = rfc.predict_proba(x_test)[:,5]\n",
        "y_probas_6 = rfc.predict_proba(x_test)[:,6]\n",
        "#y_probas_forest"
      ],
      "execution_count": 98,
      "outputs": []
    },
    {
      "cell_type": "code",
      "metadata": {
        "id": "wCin0_kB2gxI",
        "colab_type": "code",
        "colab": {
          "base_uri": "https://localhost:8080/",
          "height": 295
        },
        "outputId": "a22a75fd-33a0-4771-af9a-8acc9462bbab"
      },
      "source": [
        "# Plot an ROC curve\n",
        "fpr, tpr, thresholds = metrics.roc_curve(y_test, y_probas_0, pos_label='0')\n",
        "fpr2, tpr2, thresholds2 = metrics.roc_curve(y_test, y_probas_1, pos_label='1')\n",
        "fpr3, tpr3, thresholds3 = metrics.roc_curve(y_test, y_probas_2, pos_label='2')\n",
        "fpr4, tpr4, thresholds3 = metrics.roc_curve(y_test, y_probas_3, pos_label='3')\n",
        "fpr5, tpr5, thresholds5 = metrics.roc_curve(y_test, y_probas_4, pos_label='4')\n",
        "fpr6, tpr6, thresholds6 = metrics.roc_curve(y_test, y_probas_5, pos_label='5')\n",
        "fpr7, tpr7, thresholds7 = metrics.roc_curve(y_test, y_probas_6, pos_label='6')\n",
        "plt.title('ROC Curve for Specific Emotions')\n",
        "plt.plot(fpr, tpr, linewidth=2)\n",
        "plt.plot(fpr2, tpr2, linewidth=2)\n",
        "plt.plot(fpr3, tpr3, linewidth=2)\n",
        "plt.plot(fpr4, tpr4, linewidth=2)\n",
        "plt.plot(fpr5, tpr5, linewidth=2)\n",
        "plt.plot(fpr6, tpr6, linewidth=2)\n",
        "plt.plot(fpr7, tpr7, linewidth=2)\n",
        "plt.axis([0, 1, 0, 1])\n",
        "plt.xlabel('False Positive Rate')\n",
        "plt.ylabel('True Positive Rate')\n",
        "plt.legend(['Angry', 'Disgust', 'Fear', 'Happy', 'Sad', 'Surprise', 'Neutral'], loc='lower right')\n",
        "plt.show()"
      ],
      "execution_count": 99,
      "outputs": [
        {
          "output_type": "display_data",
          "data": {
            "image/png": "[encoded data removed]",
            "text/plain": [
              "<Figure size 432x288 with 1 Axes>"
            ]
          },
          "metadata": {
            "tags": [],
            "needs_background": "light"
          }
        }
      ]
    },
    {
      "cell_type": "code",
      "metadata": {
        "id": "uMrSKwRN3LXR",
        "colab_type": "code",
        "colab": {}
      },
      "source": [
        ""
      ],
      "execution_count": null,
      "outputs": []
    }
  ]
}